{
  "nbformat": 4,
  "nbformat_minor": 0,
  "metadata": {
    "colab": {
      "provenance": []
    },
    "kernelspec": {
      "name": "python3",
      "display_name": "Python 3"
    },
    "language_info": {
      "name": "python"
    }
  },
  "cells": [
    {
      "cell_type": "code",
      "source": [
        "import threading\n",
        "import time\n",
        "\n",
        "N_THREADS = 8\n",
        "\n",
        "# Function to be executed by a thread\n",
        "def thread_function(name, duration):\n",
        "    current_time = time.strftime(\"%H:%M:%S\")\n",
        "    print(f\"{current_time} - Thread {name}: starting\\n\")\n",
        "    time.sleep(duration)\n",
        "    current_time = time.strftime(\"%H:%M:%S\")\n",
        "    print(f\"{current_time} - Thread {name}: finishing\\n\")\n",
        "\n",
        "# Data to be passed to threads\n",
        "thread_data = [(f\"{i}\", 2) for i in range(N_THREADS)]\n",
        "threads = []\n",
        "\n",
        "# Create and start threads\n",
        "current_time = time.strftime(\"%H:%M:%S\")\n",
        "print(f\"{current_time} - Main: starting threads\")\n",
        "for data in thread_data:\n",
        "    thread = threading.Thread(target=thread_function, args=data)\n",
        "    threads.append(thread)\n",
        "    thread.start()\n",
        "\n",
        "for thread in threads:\n",
        "    thread.join()\n",
        "\n",
        "current_time = time.strftime(\"%H:%M:%S\")\n",
        "print(f\"{current_time} - Main: all threads have finished\")"
      ],
      "metadata": {
        "colab": {
          "base_uri": "https://localhost:8080/"
        },
        "id": "Cs-O6bLr5PTp",
        "outputId": "c17727fc-7fc9-4a4b-ab2a-bc315737618a"
      },
      "execution_count": 17,
      "outputs": [
        {
          "output_type": "stream",
          "name": "stdout",
          "text": [
            "00:53:44 - Main: starting threads\n",
            "00:53:44 - Thread 0: starting\n",
            "\n",
            "00:53:44 - Thread 1: starting\n",
            "\n",
            "00:53:44 - Thread 2: starting\n",
            "\n",
            "00:53:44 - Thread 3: starting\n",
            "\n",
            "00:53:44 - Thread 4: starting\n",
            "\n",
            "00:53:44 - Thread 5: starting\n",
            "\n",
            "00:53:44 - Thread 6: starting\n",
            "\n",
            "00:53:44 - Thread 7: starting\n",
            "\n",
            "00:53:46 - Thread 0: finishing\n",
            "\n",
            "00:53:46 - Thread 2: finishing\n",
            "\n",
            "00:53:46 - Thread 1: finishing\n",
            "\n",
            "00:53:46 - Thread 3: finishing\n",
            "\n",
            "00:53:46 - Thread 4: finishing\n",
            "\n",
            "00:53:46 - Thread 5: finishing\n",
            "\n",
            "00:53:46 - Thread 6: finishing\n",
            "\n",
            "00:53:46 - Thread 7: finishing\n",
            "\n",
            "00:53:46 - Main: all threads have finished\n"
          ]
        }
      ]
    },
    {
      "cell_type": "code",
      "execution_count": 2,
      "metadata": {
        "colab": {
          "base_uri": "https://localhost:8080/"
        },
        "id": "rZ6y_px50A0h",
        "outputId": "7e210c52-69cc-4b4d-dcd2-0ab396067ab5"
      },
      "outputs": [
        {
          "output_type": "stream",
          "name": "stdout",
          "text": [
            "2\n"
          ]
        }
      ],
      "source": [
        "import multiprocessing\n",
        "\n",
        "cpu_cores = multiprocessing.cpu_count()\n",
        "print(cpu_cores)"
      ]
    },
    {
      "cell_type": "code",
      "source": [
        "import multiprocessing\n",
        "import time\n",
        "\n",
        "N_PROCESSES = 8\n",
        "\n",
        "# Function to be executed by a process\n",
        "def process_function(name, duration):\n",
        "    current_time = time.strftime(\"%H:%M:%S\")\n",
        "    print(f\"{current_time} - Process {name}: starting\\n\")\n",
        "    time.sleep(duration)\n",
        "    current_time = time.strftime(\"%H:%M:%S\")\n",
        "    print(f\"{current_time} - Process {name}: finishing\\n\")\n",
        "\n",
        "# Data to be passed to processes\n",
        "process_data = [(f\"{i}\", 2) for i in range(N_PROCESSES)]\n",
        "\n",
        "# Create a Pool of workers and use starmap to apply function to data\n",
        "current_time = time.strftime(\"%H:%M:%S\")\n",
        "print(f\"{current_time} - Main: starting processes\")\n",
        "with multiprocessing.Pool() as pool:\n",
        "    pool.starmap(process_function, process_data)\n",
        "\n",
        "current_time = time.strftime(\"%H:%M:%S\")\n",
        "print(f\"{current_time} - Main: all processes finished\")"
      ],
      "metadata": {
        "colab": {
          "base_uri": "https://localhost:8080/"
        },
        "id": "jp1PX-0D1IDo",
        "outputId": "d96055cb-877b-4c39-8302-4935ebf5ee2e"
      },
      "execution_count": 18,
      "outputs": [
        {
          "output_type": "stream",
          "name": "stdout",
          "text": [
            "01:00:21 - Main: starting processes\n",
            "01:00:21 - Process 0: starting\n",
            "\n",
            "01:00:21 - Process 1: starting\n",
            "\n",
            "01:00:23 - Process 0: finishing\n",
            "\n",
            "01:00:23 - Process 1: finishing\n",
            "01:00:23 - Process 2: starting\n",
            "\n",
            "01:00:23 - Process 3: starting\n",
            "\n",
            "\n",
            "01:00:25 - Process 3: finishing\n",
            "01:00:25 - Process 2: finishing\n",
            "\n",
            "01:00:25 - Process 4: starting\n",
            "\n",
            "\n",
            "01:00:25 - Process 5: starting\n",
            "\n",
            "01:00:27 - Process 4: finishing\n",
            "\n",
            "01:00:27 - Process 6: starting\n",
            "\n",
            "01:00:27 - Process 5: finishing\n",
            "\n",
            "01:00:27 - Process 7: starting\n",
            "\n",
            "01:00:29 - Process 6: finishing\n",
            "\n",
            "01:00:29 - Process 7: finishing\n",
            "\n",
            "01:00:29 - Main: all processes finished\n"
          ]
        }
      ]
    }
  ]
}